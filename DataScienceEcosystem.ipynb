{
 "cells": [
  {
   "cell_type": "markdown",
   "id": "f6812ae6-8610-4c82-a348-4cd0fdac5526",
   "metadata": {},
   "source": [
    "## Ex 2"
   ]
  },
  {
   "cell_type": "markdown",
   "id": "a1c3746d-e009-4c75-ab75-599087b18e54",
   "metadata": {},
   "source": [
    "# Data Science Tools and Ecosystem"
   ]
  },
  {
   "cell_type": "markdown",
   "id": "af55c953-d085-4c1e-a8ca-e5455be571e3",
   "metadata": {},
   "source": [
    "# Data Science Tools and Ecosystem"
   ]
  },
  {
   "cell_type": "markdown",
   "id": "ecf98a27-d69f-4571-b3c6-3bc3e60235a3",
   "metadata": {},
   "source": [
    "## Ex 3"
   ]
  },
  {
   "cell_type": "markdown",
   "id": "8379c81d-5e2a-4055-a2e9-0b27d9348926",
   "metadata": {},
   "source": [
    "In this notebook, Data Science Tools and Ecosystem are summarized."
   ]
  },
  {
   "cell_type": "markdown",
   "id": "247be836-a76d-4ed1-8263-1895e21bc566",
   "metadata": {},
   "source": [
    "In this notebook, Data Science Tools and Ecosystem are summarized."
   ]
  },
  {
   "cell_type": "markdown",
   "id": "f55ecb73-2ee3-4a68-9162-22a1a78109ce",
   "metadata": {},
   "source": [
    "## Ex 4"
   ]
  },
  {
   "cell_type": "markdown",
   "id": "b307040f-6bc8-441a-80b3-1b40732639a9",
   "metadata": {},
   "source": [
    "Some of the popular languages that Data Scientists use are:\n",
    "1. Python\n",
    "2. R\n",
    "3. SQL\n",
    "4. Julia\n",
    "5. Scala"
   ]
  },
  {
   "cell_type": "markdown",
   "id": "e98ac985-5877-4691-903b-b2dd27be2689",
   "metadata": {},
   "source": [
    "Some of the popular languages that Data Scientists use are:\n",
    "1. Python\n",
    "2. R\n",
    "3. SQL\n",
    "4. Julia\n",
    "5. Scala"
   ]
  },
  {
   "cell_type": "markdown",
   "id": "f214131b-adb0-4fad-80a9-1113d33120c7",
   "metadata": {},
   "source": [
    "## Ex 5"
   ]
  },
  {
   "cell_type": "markdown",
   "id": "2d908a33-a3b9-4ba2-b242-20588b4c0c96",
   "metadata": {},
   "source": [
    "Some of the commonly used libraries used by Data Scientists include:\n",
    "1. Pandas\n",
    "2. NumPy\n",
    "3. Matplotlib\n",
    "4. Scikit-learn\n",
    "5. TensorFlow"
   ]
  },
  {
   "cell_type": "markdown",
   "id": "63c39c7d-97f4-4e2a-9722-e8a0a4a3b5ac",
   "metadata": {},
   "source": [
    "Some of the commonly used libraries used by Data Scientists include:\n",
    "1. Pandas\n",
    "2. NumPy\n",
    "3. Matplotlib\n",
    "4. Scikit-learn\n",
    "5. TensorFlow"
   ]
  },
  {
   "cell_type": "markdown",
   "id": "befdadc6-ec41-44b9-bb69-4e599aef6afb",
   "metadata": {},
   "source": [
    "## Ex 6"
   ]
  },
  {
   "cell_type": "markdown",
   "id": "e59b2254-0db5-4380-b8f0-74451082e799",
   "metadata": {},
   "source": [
    "| Data Science Tools |\n",
    "|--------------------|\n",
    "| Jupyter Notebook   |\n",
    "| Apache Zeppelin    |\n",
    "| RStudio            |"
   ]
  },
  {
   "cell_type": "markdown",
   "id": "59e11968-4850-4972-b9fa-42551f8856e4",
   "metadata": {},
   "source": [
    "| Data Science Tools |\n",
    "|--------------------|\n",
    "| Jupyter Notebook   |\n",
    "| Apache Zeppelin    |\n",
    "| RStudio            |"
   ]
  },
  {
   "cell_type": "markdown",
   "id": "870bf300-e2f4-47e0-af46-51fe535d0e64",
   "metadata": {},
   "source": [
    "## Ex 7"
   ]
  },
  {
   "cell_type": "markdown",
   "id": "9a435af5-a587-4d53-99b7-7cf093cf762a",
   "metadata": {},
   "source": [
    "### Below are a few examples of evaluating arithmetic expressions in Python"
   ]
  },
  {
   "cell_type": "markdown",
   "id": "55a6d67e-af7c-4ee6-b9b0-504c63c787c6",
   "metadata": {},
   "source": [
    "### Below are a few examples of evaluating arithmetic expressions in Python"
   ]
  },
  {
   "cell_type": "markdown",
   "id": "ac28e889-6a3f-4f2b-a745-d4ba09731013",
   "metadata": {},
   "source": [
    "## Ex 8"
   ]
  },
  {
   "cell_type": "code",
   "execution_count": 2,
   "id": "2d7e8e25-021f-4b3f-90f1-41f1e13db8c5",
   "metadata": {
    "tags": []
   },
   "outputs": [
    {
     "data": {
      "text/plain": [
       "17"
      ]
     },
     "execution_count": 2,
     "metadata": {},
     "output_type": "execute_result"
    }
   ],
   "source": [
    "#This a simple arithmetic expression to mutiply then add integers\n",
    "(3*4)+5"
   ]
  },
  {
   "cell_type": "markdown",
   "id": "32ce9dfe-b277-4fb6-82dd-4772c0386ccf",
   "metadata": {},
   "source": [
    "## Ex 9"
   ]
  },
  {
   "cell_type": "code",
   "execution_count": 5,
   "id": "bdb3f25d-53d5-4763-808e-412d3c5fc722",
   "metadata": {
    "tags": []
   },
   "outputs": [
    {
     "name": "stdout",
     "output_type": "stream",
     "text": [
      "hours= 3.3333333333333335\n"
     ]
    }
   ],
   "source": [
    "# This will convert 200 minutes to hours by dividing by 60.\n",
    "min = 200\n",
    "hours = min / 60\n",
    "print(\"hours=\", hours)"
   ]
  },
  {
   "cell_type": "markdown",
   "id": "1ffc471f-8dd3-4d02-bf33-0ac7fb784c59",
   "metadata": {},
   "source": [
    "## Ex 10"
   ]
  },
  {
   "cell_type": "markdown",
   "id": "7f4e5744-8015-46e9-82cc-4d6bcb52c042",
   "metadata": {},
   "source": [
    "In this notebook, Data Science Tools and Ecosystem are summarized."
   ]
  },
  {
   "cell_type": "markdown",
   "id": "d8d9859b-9a1d-4e13-b0ea-efce023d0ab7",
   "metadata": {},
   "source": [
    "**Objectives:**\n",
    "- List popular languages for Data Science\n",
    "- Create a Jupyter Notebook\n",
    "- Insert code and markdown cells\n",
    "- Share your notebook through GitHub"
   ]
  },
  {
   "cell_type": "markdown",
   "id": "21a43373-4de0-42d5-9563-8d35cb09d6d2",
   "metadata": {},
   "source": [
    "**Objectives:**\n",
    "- List popular languages for Data Science\n",
    "- Create a Jupyter Notebook\n",
    "- Insert code and markdown cells\n",
    "- Share your notebook through GitHub"
   ]
  },
  {
   "cell_type": "markdown",
   "id": "86f98dfe-9a16-46e2-a4ba-e8d5fb20ec3a",
   "metadata": {},
   "source": [
    "## Ex 11 "
   ]
  },
  {
   "cell_type": "markdown",
   "id": "2f50d84a-678d-4bfe-ae84-794472786693",
   "metadata": {},
   "source": [
    "## Author\n",
    "Natalia Shmaltser"
   ]
  },
  {
   "cell_type": "markdown",
   "id": "5d391b68-608b-4753-b805-6dfcfdbee443",
   "metadata": {},
   "source": [
    "## Author\n",
    "Natalia Shmaltser"
   ]
  },
  {
   "cell_type": "code",
   "execution_count": null,
   "id": "c06a8f6a-050b-4aad-9807-18a16b79e273",
   "metadata": {},
   "outputs": [],
   "source": []
  }
 ],
 "metadata": {
  "kernelspec": {
   "display_name": "Python",
   "language": "python",
   "name": "conda-env-python-py"
  },
  "language_info": {
   "codemirror_mode": {
    "name": "ipython",
    "version": 3
   },
   "file_extension": ".py",
   "mimetype": "text/x-python",
   "name": "python",
   "nbconvert_exporter": "python",
   "pygments_lexer": "ipython3",
   "version": "3.7.12"
  }
 },
 "nbformat": 4,
 "nbformat_minor": 5
}
